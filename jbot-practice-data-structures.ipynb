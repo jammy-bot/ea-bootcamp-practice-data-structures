{
 "cells": [
  {
   "cell_type": "markdown",
   "metadata": {},
   "source": [
    "# Earth Analytics Bootcamp - Practice Activity on Data Structures\n",
    "**Author:**  jbot"
   ]
  },
  {
   "cell_type": "markdown",
   "metadata": {},
   "source": [
    "**Question 2: Import Python Packages**\n",
    "\n",
    "You will be creating \n",
    "\n",
    "Import the necessary Python packages to create lists, numpy arrays, and pandas dataframes. You will also be creating plots and downloading data from Figshare.com."
   ]
  },
  {
   "cell_type": "code",
   "execution_count": 1,
   "metadata": {},
   "outputs": [
    {
     "name": "stdout",
     "output_type": "stream",
     "text": [
      "import of packages successful\n"
     ]
    }
   ],
   "source": [
    "#  Import Python packages\n",
    "import os\n",
    "import numpy as np\n",
    "import pandas as pd\n",
    "import urllib.request\n",
    "import matplotlib.pyplot as plt\n",
    "\n",
    "#  Print message after packages imported successfully\n",
    "print(\"import of packages successful\")"
   ]
  },
  {
   "cell_type": "markdown",
   "metadata": {},
   "source": [
    "**Question 3: Create List of Data Values**\n",
    "\n",
    "Create and print a Python list of the average monthly temperature (Celsius) in Boulder, CO:"
   ]
  },
  {
   "cell_type": "code",
   "execution_count": 2,
   "metadata": {},
   "outputs": [
    {
     "data": {
      "text/plain": [
       "[0.0, 2.0, 5.0, 9.56, 14.39, 21.72, 16.72, 11.61, 4.89, 0.99]"
      ]
     },
     "execution_count": 2,
     "metadata": {},
     "output_type": "execute_result"
    }
   ],
   "source": [
    "# create a list of average monthly temperatures (Celsius) in Boulder, CO\n",
    "avg_monthly_temp_c = [0.0, 2.0, 5.0, 9.56, 14.39, 21.72, 16.72, 11.61, 4.89, 0.99]\n",
    "\n",
    "# note: the list does not contain values for June or July\n",
    "\n",
    "# print the list\n",
    "avg_monthly_temp_c"
   ]
  },
  {
   "cell_type": "markdown",
   "metadata": {},
   "source": [
    "**Question 4: Insert Values Into a Python List**"
   ]
  },
  {
   "cell_type": "code",
   "execution_count": 3,
   "metadata": {},
   "outputs": [
    {
     "name": "stdout",
     "output_type": "stream",
     "text": [
      "[0.0, 2.0, 5.0, 9.56, 14.39, 19.56, 21.72, 16.72, 11.61, 4.89, 0.99]\n",
      "[0.0, 2.0, 5.0, 9.56, 14.39, 19.56, 22.78, 21.72, 16.72, 11.61, 4.89, 0.99]\n"
     ]
    }
   ],
   "source": [
    "# insert missing values for June (19.56) and July (22.78), printing the list after each addition\n",
    "\n",
    "avg_monthly_temp_c.insert(5, 19.56)\n",
    "print(avg_monthly_temp_c)\n",
    "\n",
    "avg_monthly_temp_c.insert(6, 22.78)\n",
    "print(avg_monthly_temp_c)"
   ]
  },
  {
   "cell_type": "markdown",
   "metadata": {},
   "source": [
    "**Question 5: Manually Create Numpy Arrays**\n",
    "\n",
    "Using the average monthly temperature values, manually create and print a one-dimensional numpy array using the following syntax: arrayname = np.array([value, value, value, etc])"
   ]
  },
  {
   "cell_type": "code",
   "execution_count": 4,
   "metadata": {},
   "outputs": [
    {
     "name": "stdout",
     "output_type": "stream",
     "text": [
      "[ 0.    2.    5.    9.56 14.39 19.56 22.78 21.72 16.72 11.61  4.89  0.99]\n",
      "[ 0.    2.    5.    9.56 14.39 19.56 22.78 21.72 16.72 11.61  4.89  0.99]\n"
     ]
    }
   ],
   "source": [
    "# create and print a one-dimensional numpy array\n",
    "manual_array = np.array([0.0, 2.0, 5.0, 9.56, 14.39, 19.56, 22.78, 21.72, 16.72, 11.61, 4.89, 0.99])\n",
    "print(manual_array)\n",
    "                        \n",
    "# create and print another array, from the python list\n",
    "array_from_list = np.array(avg_monthly_temp_c)\n",
    "print(array_from_list)"
   ]
  },
  {
   "cell_type": "markdown",
   "metadata": {},
   "source": [
    "**Quesion 6: Download Text File and Import Into Numpy Arrays**\n",
    "\n",
    "Use .urllib.request to download the following file of average monthly temperature (Celsius) for Boulder, Colorado, to your data directory: avg-monthly-temp.txt from https://ndownloader.figshare.com/files/12732467."
   ]
  },
  {
   "cell_type": "code",
   "execution_count": 5,
   "metadata": {},
   "outputs": [
    {
     "name": "stdout",
     "output_type": "stream",
     "text": [
      "datasets downloaded successfully\n",
      "\n",
      "[ 0.    2.    5.    9.56 14.39 19.56 22.78 21.72 16.72 11.61  4.89  0.99]\n"
     ]
    }
   ],
   "source": [
    "# set the working directory\n",
    "os.chdir(\"C:/Users/jd/earth-analytics-bootcamp\")\n",
    "\n",
    "# print the current working directory\n",
    "os.getcwd()\n",
    "\n",
    "# download the following file of average monthly temperature (Celsius) for Boulder, Colorado, to your data directory\n",
    "urllib.request.urlretrieve(url = \"https://ndownloader.figshare.com/files/12732467\", \n",
    "                           filename = \"data/avg-monthly-temp.txt\")\n",
    "\n",
    "# print message that downloads were successful\n",
    "print(\"datasets downloaded successfully\")\n",
    "print(\"\")\n",
    "\n",
    "# import avg-monthly-temp.txt into a numpy array and print the array\n",
    "avg_monthly_temp_c_txt = np.loadtxt(fname = \"C:/Users/jd/earth-analytics-bootcamp/data/avg-monthly-temp.txt\")\n",
    "print(avg_monthly_temp_c_txt)"
   ]
  },
  {
   "cell_type": "markdown",
   "metadata": {},
   "source": [
    "**Quesion 7: Select and Summarize Data From Numpy Arrays**\n",
    "\n",
    "Using selections, create two new numpy arrays containing the data values for:\n",
    "\n",
    "Mar, Apr, May | Sept, Oct, Nov\n",
    "\n",
    "Run the appropriate function to calculate and print the mean of each new numpy array."
   ]
  },
  {
   "cell_type": "code",
   "execution_count": 6,
   "metadata": {},
   "outputs": [
    {
     "name": "stdout",
     "output_type": "stream",
     "text": [
      "Mean of Spring month temperatures: 9.65\n",
      "\n",
      "Mean of Fall month temperatures: 11.073333333333332\n"
     ]
    }
   ],
   "source": [
    "# create the two arrays\n",
    "spring_temps = avg_monthly_temp_c_txt[2:5]\n",
    "fall_temps = avg_monthly_temp_c_txt[8:11]\n",
    "\n",
    "# calculate and print the mean of each new array\n",
    "print(\"Mean of Spring month temperatures:\", np.mean(spring_temps))\n",
    "print(\"\")\n",
    "print(\"Mean of Fall month temperatures:\", np.mean(fall_temps))"
   ]
  },
  {
   "cell_type": "markdown",
   "metadata": {},
   "source": [
    "**Question 8: Manually Create Pandas Dataframes**\n",
    "\n",
    "Manually create and print a pandas dataframe of average monthly temperature (Celsius) for Boulder, Colorado."
   ]
  },
  {
   "cell_type": "code",
   "execution_count": 7,
   "metadata": {},
   "outputs": [
    {
     "name": "stdout",
     "output_type": "stream",
     "text": [
      "   Month  Avg. Temp\n",
      "0    Jan       0.00\n",
      "1    Feb       2.00\n",
      "2    Mar       5.00\n",
      "3    Apr       9.56\n",
      "4    May      14.39\n",
      "5    Jun      19.56\n",
      "6    Jul      22.78\n",
      "7    Aug      21.72\n",
      "8    Sep      16.72\n",
      "9    Oct      11.61\n",
      "10   Nov       4.89\n",
      "11   Dec       0.99\n"
     ]
    }
   ],
   "source": [
    "# create dataframe\n",
    "monthly_temp_dataframe = pd.DataFrame( columns=[\"Month\", \"Avg. Temp\"], data=[ [\"Jan\", 0.0], [\"Feb\", 2.0], [\"Mar\", 5.0], [\"Apr\", 9.56], [\"May\", 14.39], [\"Jun\", 19.56], [\"Jul\", 22.78], [\"Aug\", 21.72], [\"Sep\", 16.72], [\"Oct\", 11.61], [\"Nov\", 4.89], [\"Dec\", 0.99] ] )\n",
    "\n",
    "# print dataframe\n",
    "print(monthly_temp_dataframe)"
   ]
  },
  {
   "cell_type": "markdown",
   "metadata": {},
   "source": [
    "**Question 9: Download CSV File and Import Into Pandas Dataframes**\n",
    "\n",
    "Use .urllib.request to download the following file of average monthly temperature (Celsius) for Boulder, Colorado, to your data directory:\n",
    "\n",
    "avg-temp-months-seasons.csv from https://ndownloader.figshare.com/files/12739457\n",
    "\n",
    "Recall that you need to set your working directory (e.g. /home/jpalomino/earth-analytics-bootcamp/) before running the commands to download data.\n",
    "\n",
    "Import avg-temp-months-seasons.csv into a pandas dataframe."
   ]
  },
  {
   "cell_type": "code",
   "execution_count": 8,
   "metadata": {},
   "outputs": [
    {
     "name": "stdout",
     "output_type": "stream",
     "text": [
      "datasets downloaded successfully\n",
      "\n",
      "   months   temp seasons\n",
      "0     Jan   0.00  Winter\n",
      "1     Feb   2.00  Winter\n",
      "2     Mar   5.00  Spring\n",
      "3     Apr   9.56  Spring\n",
      "4     May  14.39  Spring\n",
      "5    June  19.56  Summer\n",
      "6    July  22.78  Summer\n",
      "7     Aug  21.72  Summer\n",
      "8    Sept  16.72    Fall\n",
      "9     Oct  11.61    Fall\n",
      "10    Nov   4.89    Fall\n",
      "11    Dec   0.99  Winter\n"
     ]
    }
   ],
   "source": [
    "#set your working directory\n",
    "os.chdir(\"C:/Users/jd/earth-analytics-bootcamp\")\n",
    "\n",
    "# use .urllib.request to download avg-temp-months-seasons.csv from https://ndownloader.figshare.com/files/12739457\n",
    "urllib.request.urlretrieve(url = \"https://ndownloader.figshare.com/files/12739457\", \n",
    "                           filename = \"data/avg-temp-months-seasons.csv\")\n",
    "\n",
    "# print message that downloads were successful\n",
    "print(\"datasets downloaded successfully\")\n",
    "\n",
    "\n",
    "print(\"\")\n",
    "\n",
    "# import avg-temp-months-seasons.csv into a pandas dataframe.\n",
    "avg_temp_months_seasons = pd.read_csv(\"C:/Users/jd/earth-analytics-bootcamp/data/avg-temp-months-seasons.csv\")\n",
    "print(avg_temp_months_seasons)"
   ]
  },
  {
   "cell_type": "markdown",
   "metadata": {},
   "source": [
    "**Question 10: Select and Summarize Data From Pandas Dataframes**"
   ]
  },
  {
   "cell_type": "code",
   "execution_count": 9,
   "metadata": {},
   "outputs": [],
   "source": [
    "# Select the data for each season (e.g. Winter) and assign the results to a new pandas dataframe for each season.\n",
    "avg_temp_winter = avg_temp_months_seasons[avg_temp_months_seasons.seasons == \"Winter\"]\n",
    "avg_temp_spring = avg_temp_months_seasons[avg_temp_months_seasons.seasons == \"Spring\"]\n",
    "avg_temp_summer = avg_temp_months_seasons[avg_temp_months_seasons.seasons == \"Summer\"]\n",
    "avg_temp_fall = avg_temp_months_seasons[avg_temp_months_seasons.seasons == \"Fall\"]"
   ]
  },
  {
   "cell_type": "code",
   "execution_count": 10,
   "metadata": {},
   "outputs": [
    {
     "name": "stdout",
     "output_type": "stream",
     "text": [
      "Winter Summary:\n",
      "           temp\n",
      "count  3.000000\n",
      "mean   0.996667\n",
      "std    1.000017\n",
      "min    0.000000\n",
      "25%    0.495000\n",
      "50%    0.990000\n",
      "75%    1.495000\n",
      "max    2.000000\n",
      "\n",
      "Spring Summary:\n",
      "            temp\n",
      "count   3.000000\n",
      "mean    9.650000\n",
      "std     4.695647\n",
      "min     5.000000\n",
      "25%     7.280000\n",
      "50%     9.560000\n",
      "75%    11.975000\n",
      "max    14.390000\n",
      "\n",
      "Summer Summary:\n",
      "            temp\n",
      "count   3.000000\n",
      "mean   21.353333\n",
      "std     1.641016\n",
      "min    19.560000\n",
      "25%    20.640000\n",
      "50%    21.720000\n",
      "75%    22.250000\n",
      "max    22.780000\n",
      "\n",
      "Fall Summary:\n",
      "            temp\n",
      "count   3.000000\n",
      "mean   11.073333\n",
      "std     5.933231\n",
      "min     4.890000\n",
      "25%     8.250000\n",
      "50%    11.610000\n",
      "75%    14.165000\n",
      "max    16.720000\n",
      "\n"
     ]
    }
   ],
   "source": [
    "# Run the appropriate function to summarize each new pandas dataframe (e.g. Winter).\n",
    "print(\"Winter Summary:\")\n",
    "print(avg_temp_winter.describe())\n",
    "print(\"\")\n",
    "      \n",
    "print(\"Spring Summary:\")\n",
    "print(avg_temp_spring.describe())\n",
    "print(\"\")\n",
    "      \n",
    "print(\"Summer Summary:\")\n",
    "print(avg_temp_summer.describe())\n",
    "print(\"\")\n",
    "      \n",
    "print(\"Fall Summary:\")\n",
    "print(avg_temp_fall.describe())\n",
    "print(\"\")"
   ]
  },
  {
   "cell_type": "markdown",
   "metadata": {},
   "source": [
    "**Question 11: Plot Data From Pandas Dataframes**\n",
    "\n",
    "Manually create a new pandas dataframe containing the calculated mean value for each season and the name of the season."
   ]
  },
  {
   "cell_type": "code",
   "execution_count": 11,
   "metadata": {},
   "outputs": [
    {
     "name": "stdout",
     "output_type": "stream",
     "text": [
      "   season       temp\n",
      "0  Winter   0.996667\n",
      "1  Spring   9.650000\n",
      "2  Summer  21.353333\n",
      "3    Fall  11.073333\n"
     ]
    }
   ],
   "source": [
    "# create the dataframe\n",
    "# create dataframe\n",
    "seasonal_mean_temp = pd.DataFrame( columns=[\"season\", \"temp\"], data=[ [\"Winter\", 0.996667], [\"Spring\", 9.650000], [\"Summer\", 21.353333], [\"Fall\", 11.073333]] )\n",
    "\n",
    "# print dataframe\n",
    "print(seasonal_mean_temp)"
   ]
  },
  {
   "cell_type": "markdown",
   "metadata": {},
   "source": [
    "**Plot the new pandas dataframe**"
   ]
  },
  {
   "cell_type": "code",
   "execution_count": 12,
   "metadata": {},
   "outputs": [
    {
     "data": {
      "image/png": "[encoded data removed]",
      "text/plain": [
       "<Figure size 576x576 with 1 Axes>"
      ]
     },
     "metadata": {
      "needs_background": "light"
     },
     "output_type": "display_data"
    }
   ],
   "source": [
    "# set plot size for all plots that follow\n",
    "plt.rcParams[\"figure.figsize\"] = (8, 8)\n",
    "\n",
    "# create the plot space upon which to plot the data\n",
    "fig, ax = plt.subplots()\n",
    "\n",
    "# add the x-axis and the y-axis to the plot\n",
    "ax.bar(seasonal_mean_temp.season, seasonal_mean_temp.temp, color=\"green\")\n",
    "\n",
    "# set plot title\n",
    "ax.set(title=\"Mean Seasonal Temperatures in Boulder, CO\")\n",
    "\n",
    "# add labels to the axes\n",
    "ax.set(xlabel=\"Month\", ylabel=\"Temperature (C)\");"
   ]
  },
  {
   "cell_type": "code",
   "execution_count": null,
   "metadata": {},
   "outputs": [],
   "source": []
  }
 ],
 "metadata": {
  "kernelspec": {
   "display_name": "Python 3",
   "language": "python",
   "name": "python3"
  },
  "language_info": {
   "codemirror_mode": {
    "name": "ipython",
    "version": 3
   },
   "file_extension": ".py",
   "mimetype": "text/x-python",
   "name": "python",
   "nbconvert_exporter": "python",
   "pygments_lexer": "ipython3",
   "version": "3.7.4"
  }
 },
 "nbformat": 4,
 "nbformat_minor": 2
}
